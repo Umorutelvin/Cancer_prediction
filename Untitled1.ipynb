{
 "cells": [
  {
   "cell_type": "code",
   "execution_count": 124,
   "id": "64d0c66b",
   "metadata": {},
   "outputs": [],
   "source": [
    "import pandas as pd\n",
    "import numpy as np\n"
   ]
  },
  {
   "cell_type": "markdown",
   "id": "c1a6e86a",
   "metadata": {},
   "source": [
    "## Problem statement\n",
    "Due to the high number of death recently due to cancer, they have been told on how AI can be used to predict whether a cancer case is benign or malignant on the fly without having the patient go through rigorous/expensive procedures. \n",
    "\n",
    "**Approach**\n",
    "\n",
    "*Collect and prepare data(cleaning and transforming)\n",
    "\n",
    "*Choose the needed predictive model\n",
    "\n",
    "*Train, validate and implement the model\n",
    "\n",
    "*Check how the model is performing"
   ]
  },
  {
   "cell_type": "code",
   "execution_count": 126,
   "id": "3ee2a1d9",
   "metadata": {},
   "outputs": [],
   "source": [
    "cp_df = pd.read_csv('cancer dataset.csv', sep=';')"
   ]
  },
  {
   "cell_type": "code",
   "execution_count": 127,
   "id": "03dc9d28",
   "metadata": {},
   "outputs": [
    {
     "data": {
      "text/html": [
       "<div>\n",
       "<style scoped>\n",
       "    .dataframe tbody tr th:only-of-type {\n",
       "        vertical-align: middle;\n",
       "    }\n",
       "\n",
       "    .dataframe tbody tr th {\n",
       "        vertical-align: top;\n",
       "    }\n",
       "\n",
       "    .dataframe thead th {\n",
       "        text-align: right;\n",
       "    }\n",
       "</style>\n",
       "<table border=\"1\" class=\"dataframe\">\n",
       "  <thead>\n",
       "    <tr style=\"text-align: right;\">\n",
       "      <th></th>\n",
       "      <th>clump</th>\n",
       "      <th>ucellsize</th>\n",
       "      <th>ucellshape</th>\n",
       "      <th>mgadhesion</th>\n",
       "      <th>sepics</th>\n",
       "      <th>bnuclei</th>\n",
       "      <th>bchromatin</th>\n",
       "      <th>normnucl</th>\n",
       "      <th>mitoses</th>\n",
       "      <th>classe</th>\n",
       "    </tr>\n",
       "  </thead>\n",
       "  <tbody>\n",
       "    <tr>\n",
       "      <th>0</th>\n",
       "      <td>4</td>\n",
       "      <td>1</td>\n",
       "      <td>1</td>\n",
       "      <td>1</td>\n",
       "      <td>2</td>\n",
       "      <td>3</td>\n",
       "      <td>1</td>\n",
       "      <td>1</td>\n",
       "      <td>1</td>\n",
       "      <td>begnin</td>\n",
       "    </tr>\n",
       "    <tr>\n",
       "      <th>1</th>\n",
       "      <td>1</td>\n",
       "      <td>5</td>\n",
       "      <td>8</td>\n",
       "      <td>6</td>\n",
       "      <td>5</td>\n",
       "      <td>8</td>\n",
       "      <td>7</td>\n",
       "      <td>10</td>\n",
       "      <td>1</td>\n",
       "      <td>malignant</td>\n",
       "    </tr>\n",
       "    <tr>\n",
       "      <th>2</th>\n",
       "      <td>3</td>\n",
       "      <td>2</td>\n",
       "      <td>2</td>\n",
       "      <td>3</td>\n",
       "      <td>2</td>\n",
       "      <td>1</td>\n",
       "      <td>1</td>\n",
       "      <td>1</td>\n",
       "      <td>1</td>\n",
       "      <td>begnin</td>\n",
       "    </tr>\n",
       "    <tr>\n",
       "      <th>3</th>\n",
       "      <td>3</td>\n",
       "      <td>1</td>\n",
       "      <td>1</td>\n",
       "      <td>3</td>\n",
       "      <td>8</td>\n",
       "      <td>1</td>\n",
       "      <td>5</td>\n",
       "      <td>8</td>\n",
       "      <td>1</td>\n",
       "      <td>begnin</td>\n",
       "    </tr>\n",
       "    <tr>\n",
       "      <th>4</th>\n",
       "      <td>10</td>\n",
       "      <td>4</td>\n",
       "      <td>6</td>\n",
       "      <td>1</td>\n",
       "      <td>2</td>\n",
       "      <td>10</td>\n",
       "      <td>5</td>\n",
       "      <td>3</td>\n",
       "      <td>1</td>\n",
       "      <td>malignant</td>\n",
       "    </tr>\n",
       "    <tr>\n",
       "      <th>5</th>\n",
       "      <td>10</td>\n",
       "      <td>5</td>\n",
       "      <td>7</td>\n",
       "      <td>3</td>\n",
       "      <td>3</td>\n",
       "      <td>7</td>\n",
       "      <td>3</td>\n",
       "      <td>3</td>\n",
       "      <td>8</td>\n",
       "      <td>malignant</td>\n",
       "    </tr>\n",
       "  </tbody>\n",
       "</table>\n",
       "</div>"
      ],
      "text/plain": [
       "   clump  ucellsize  ucellshape  mgadhesion  sepics  bnuclei  bchromatin  \\\n",
       "0      4          1           1           1       2        3           1   \n",
       "1      1          5           8           6       5        8           7   \n",
       "2      3          2           2           3       2        1           1   \n",
       "3      3          1           1           3       8        1           5   \n",
       "4     10          4           6           1       2       10           5   \n",
       "5     10          5           7           3       3        7           3   \n",
       "\n",
       "   normnucl  mitoses     classe  \n",
       "0         1        1     begnin  \n",
       "1        10        1  malignant  \n",
       "2         1        1     begnin  \n",
       "3         8        1     begnin  \n",
       "4         3        1  malignant  \n",
       "5         3        8  malignant  "
      ]
     },
     "execution_count": 127,
     "metadata": {},
     "output_type": "execute_result"
    }
   ],
   "source": [
    "cp_df.head(6)"
   ]
  },
  {
   "cell_type": "code",
   "execution_count": 128,
   "id": "aecf0265",
   "metadata": {},
   "outputs": [
    {
     "name": "stdout",
     "output_type": "stream",
     "text": [
      "<class 'pandas.core.frame.DataFrame'>\n",
      "RangeIndex: 300 entries, 0 to 299\n",
      "Data columns (total 10 columns):\n",
      " #   Column      Non-Null Count  Dtype \n",
      "---  ------      --------------  ----- \n",
      " 0   clump       300 non-null    int64 \n",
      " 1   ucellsize   300 non-null    int64 \n",
      " 2   ucellshape  300 non-null    int64 \n",
      " 3   mgadhesion  300 non-null    int64 \n",
      " 4   sepics      300 non-null    int64 \n",
      " 5   bnuclei     300 non-null    int64 \n",
      " 6   bchromatin  300 non-null    int64 \n",
      " 7   normnucl    300 non-null    int64 \n",
      " 8   mitoses     300 non-null    int64 \n",
      " 9   classe      300 non-null    object\n",
      "dtypes: int64(9), object(1)\n",
      "memory usage: 23.6+ KB\n"
     ]
    }
   ],
   "source": [
    "cp_df.info()"
   ]
  },
  {
   "cell_type": "code",
   "execution_count": 129,
   "id": "5e1b7753",
   "metadata": {},
   "outputs": [
    {
     "data": {
      "text/plain": [
       "88"
      ]
     },
     "execution_count": 129,
     "metadata": {},
     "output_type": "execute_result"
    }
   ],
   "source": [
    "cp_df.duplicated().sum()"
   ]
  },
  {
   "cell_type": "code",
   "execution_count": 130,
   "id": "bc6ed338",
   "metadata": {},
   "outputs": [],
   "source": [
    "cp_df.drop_duplicates(inplace = True)"
   ]
  },
  {
   "cell_type": "code",
   "execution_count": 131,
   "id": "c3438dc4",
   "metadata": {},
   "outputs": [
    {
     "data": {
      "text/plain": [
       "Index(['clump', 'ucellsize', 'ucellshape', 'mgadhesion', 'sepics', 'bnuclei',\n",
       "       'bchromatin', 'normnucl', 'mitoses', 'classe'],\n",
       "      dtype='object')"
      ]
     },
     "execution_count": 131,
     "metadata": {},
     "output_type": "execute_result"
    }
   ],
   "source": [
    "cp_df.columns"
   ]
  },
  {
   "cell_type": "markdown",
   "id": "958e8485",
   "metadata": {},
   "source": [
    "**Here's a data dictionary based on this dataset:**\n",
    "\n",
    "1. Clump: The clump thickness of cells, measured on a scale from 1 to 10.\n",
    "2. UCellSize: Uniformity of cell size, represented on a scale from 1 to 10.\n",
    "3. UCellShape: Uniformity of cell shape, indicated on a scale from 1 to 10.\n",
    "4. MgAdhesion: Marginal adhesion of cells, rated on a scale from 1 to 10.\n",
    "5. Sepics: Single epithelial cell size, assessed on a scale from 1 to 10.\n",
    "6. BNuclei: Bare nuclei status, represented as 1 for presence and 0 for absence.\n",
    "7. BChromatin: Bland chromatin appearance, rated on a scale from 1 to 10.\n",
    "8. NormNucl: Normal nucleoli presence, represented as 1 for present and 0 for absent.\n",
    "9. Mitoses: Mitotic activity, measured as the number of mitoses observed.\n",
    "10. Classe: Class label indicating the diagnosis, typically represented as 2 for benign and 4 for malignant."
   ]
  },
  {
   "cell_type": "code",
   "execution_count": 133,
   "id": "b648ff06",
   "metadata": {},
   "outputs": [
    {
     "data": {
      "text/plain": [
       "(212, 10)"
      ]
     },
     "execution_count": 133,
     "metadata": {},
     "output_type": "execute_result"
    }
   ],
   "source": [
    "cp_df.shape"
   ]
  },
  {
   "cell_type": "code",
   "execution_count": 134,
   "id": "f84f6423",
   "metadata": {},
   "outputs": [
    {
     "data": {
      "text/plain": [
       "clump         0\n",
       "ucellsize     0\n",
       "ucellshape    0\n",
       "mgadhesion    0\n",
       "sepics        0\n",
       "bnuclei       0\n",
       "bchromatin    0\n",
       "normnucl      0\n",
       "mitoses       0\n",
       "classe        0\n",
       "dtype: int64"
      ]
     },
     "execution_count": 134,
     "metadata": {},
     "output_type": "execute_result"
    }
   ],
   "source": [
    "cp_df.isnull().sum()"
   ]
  },
  {
   "cell_type": "code",
   "execution_count": 135,
   "id": "5f6dbb12",
   "metadata": {},
   "outputs": [
    {
     "data": {
      "text/html": [
       "<div>\n",
       "<style scoped>\n",
       "    .dataframe tbody tr th:only-of-type {\n",
       "        vertical-align: middle;\n",
       "    }\n",
       "\n",
       "    .dataframe tbody tr th {\n",
       "        vertical-align: top;\n",
       "    }\n",
       "\n",
       "    .dataframe thead th {\n",
       "        text-align: right;\n",
       "    }\n",
       "</style>\n",
       "<table border=\"1\" class=\"dataframe\">\n",
       "  <thead>\n",
       "    <tr style=\"text-align: right;\">\n",
       "      <th></th>\n",
       "      <th>clump</th>\n",
       "      <th>ucellsize</th>\n",
       "      <th>ucellshape</th>\n",
       "      <th>mgadhesion</th>\n",
       "      <th>sepics</th>\n",
       "      <th>bnuclei</th>\n",
       "      <th>bchromatin</th>\n",
       "      <th>normnucl</th>\n",
       "      <th>mitoses</th>\n",
       "    </tr>\n",
       "  </thead>\n",
       "  <tbody>\n",
       "    <tr>\n",
       "      <th>count</th>\n",
       "      <td>212.00000</td>\n",
       "      <td>212.000000</td>\n",
       "      <td>212.000000</td>\n",
       "      <td>212.000000</td>\n",
       "      <td>212.000000</td>\n",
       "      <td>212.000000</td>\n",
       "      <td>212.000000</td>\n",
       "      <td>212.000000</td>\n",
       "      <td>212.000000</td>\n",
       "    </tr>\n",
       "    <tr>\n",
       "      <th>mean</th>\n",
       "      <td>5.20283</td>\n",
       "      <td>3.863208</td>\n",
       "      <td>4.061321</td>\n",
       "      <td>3.330189</td>\n",
       "      <td>3.726415</td>\n",
       "      <td>4.462264</td>\n",
       "      <td>3.957547</td>\n",
       "      <td>3.617925</td>\n",
       "      <td>1.872642</td>\n",
       "    </tr>\n",
       "    <tr>\n",
       "      <th>std</th>\n",
       "      <td>2.85202</td>\n",
       "      <td>3.179491</td>\n",
       "      <td>3.154928</td>\n",
       "      <td>2.969742</td>\n",
       "      <td>2.398787</td>\n",
       "      <td>3.791171</td>\n",
       "      <td>2.589276</td>\n",
       "      <td>3.428382</td>\n",
       "      <td>2.089878</td>\n",
       "    </tr>\n",
       "    <tr>\n",
       "      <th>min</th>\n",
       "      <td>1.00000</td>\n",
       "      <td>1.000000</td>\n",
       "      <td>1.000000</td>\n",
       "      <td>1.000000</td>\n",
       "      <td>1.000000</td>\n",
       "      <td>1.000000</td>\n",
       "      <td>1.000000</td>\n",
       "      <td>1.000000</td>\n",
       "      <td>1.000000</td>\n",
       "    </tr>\n",
       "    <tr>\n",
       "      <th>25%</th>\n",
       "      <td>3.00000</td>\n",
       "      <td>1.000000</td>\n",
       "      <td>1.000000</td>\n",
       "      <td>1.000000</td>\n",
       "      <td>2.000000</td>\n",
       "      <td>1.000000</td>\n",
       "      <td>2.000000</td>\n",
       "      <td>1.000000</td>\n",
       "      <td>1.000000</td>\n",
       "    </tr>\n",
       "    <tr>\n",
       "      <th>50%</th>\n",
       "      <td>5.00000</td>\n",
       "      <td>3.000000</td>\n",
       "      <td>3.000000</td>\n",
       "      <td>2.000000</td>\n",
       "      <td>3.000000</td>\n",
       "      <td>3.000000</td>\n",
       "      <td>3.000000</td>\n",
       "      <td>1.000000</td>\n",
       "      <td>1.000000</td>\n",
       "    </tr>\n",
       "    <tr>\n",
       "      <th>75%</th>\n",
       "      <td>7.00000</td>\n",
       "      <td>6.000000</td>\n",
       "      <td>6.250000</td>\n",
       "      <td>5.000000</td>\n",
       "      <td>5.000000</td>\n",
       "      <td>9.250000</td>\n",
       "      <td>6.000000</td>\n",
       "      <td>6.000000</td>\n",
       "      <td>1.000000</td>\n",
       "    </tr>\n",
       "    <tr>\n",
       "      <th>max</th>\n",
       "      <td>10.00000</td>\n",
       "      <td>10.000000</td>\n",
       "      <td>10.000000</td>\n",
       "      <td>10.000000</td>\n",
       "      <td>10.000000</td>\n",
       "      <td>10.000000</td>\n",
       "      <td>10.000000</td>\n",
       "      <td>10.000000</td>\n",
       "      <td>10.000000</td>\n",
       "    </tr>\n",
       "  </tbody>\n",
       "</table>\n",
       "</div>"
      ],
      "text/plain": [
       "           clump   ucellsize  ucellshape  mgadhesion      sepics     bnuclei  \\\n",
       "count  212.00000  212.000000  212.000000  212.000000  212.000000  212.000000   \n",
       "mean     5.20283    3.863208    4.061321    3.330189    3.726415    4.462264   \n",
       "std      2.85202    3.179491    3.154928    2.969742    2.398787    3.791171   \n",
       "min      1.00000    1.000000    1.000000    1.000000    1.000000    1.000000   \n",
       "25%      3.00000    1.000000    1.000000    1.000000    2.000000    1.000000   \n",
       "50%      5.00000    3.000000    3.000000    2.000000    3.000000    3.000000   \n",
       "75%      7.00000    6.000000    6.250000    5.000000    5.000000    9.250000   \n",
       "max     10.00000   10.000000   10.000000   10.000000   10.000000   10.000000   \n",
       "\n",
       "       bchromatin    normnucl     mitoses  \n",
       "count  212.000000  212.000000  212.000000  \n",
       "mean     3.957547    3.617925    1.872642  \n",
       "std      2.589276    3.428382    2.089878  \n",
       "min      1.000000    1.000000    1.000000  \n",
       "25%      2.000000    1.000000    1.000000  \n",
       "50%      3.000000    1.000000    1.000000  \n",
       "75%      6.000000    6.000000    1.000000  \n",
       "max     10.000000   10.000000   10.000000  "
      ]
     },
     "execution_count": 135,
     "metadata": {},
     "output_type": "execute_result"
    }
   ],
   "source": [
    "cp_df.describe()"
   ]
  },
  {
   "cell_type": "code",
   "execution_count": 136,
   "id": "69bb0547",
   "metadata": {},
   "outputs": [],
   "source": [
    "features = ['clump','ucellsize','ucellshape','mgadhesion','sepics','bnuclei','bchromatin','normnucl','mitoses']\n",
    "ft = [i for i in cp_df.columns][:-1]\n",
    "label = 'classe'"
   ]
  },
  {
   "cell_type": "code",
   "execution_count": 137,
   "id": "53feb911",
   "metadata": {},
   "outputs": [
    {
     "data": {
      "text/plain": [
       "<Figure size 640x480 with 0 Axes>"
      ]
     },
     "metadata": {},
     "output_type": "display_data"
    },
    {
     "data": {
      "image/png": "[encoded data removed]",
      "text/plain": [
       "<Figure size 600x600 with 1 Axes>"
      ]
     },
     "metadata": {},
     "output_type": "display_data"
    },
    {
     "data": {
      "image/png": "[encoded data removed]",
      "text/plain": [
       "<Figure size 600x600 with 1 Axes>"
      ]
     },
     "metadata": {},
     "output_type": "display_data"
    },
    {
     "data": {
      "image/png": "[encoded data removed]",
      "text/plain": [
       "<Figure size 600x600 with 1 Axes>"
      ]
     },
     "metadata": {},
     "output_type": "display_data"
    },
    {
     "data": {
      "image/png": "[encoded data removed]",
      "text/plain": [
       "<Figure size 600x600 with 1 Axes>"
      ]
     },
     "metadata": {},
     "output_type": "display_data"
    },
    {
     "data": {
      "image/png": "[encoded data removed]",
      "text/plain": [
       "<Figure size 600x600 with 1 Axes>"
      ]
     },
     "metadata": {},
     "output_type": "display_data"
    },
    {
     "data": {
      "image/png": "[encoded data removed]",
      "text/plain": [
       "<Figure size 600x600 with 1 Axes>"
      ]
     },
     "metadata": {},
     "output_type": "display_data"
    },
    {
     "data": {
      "image/png": "[encoded data removed]",
      "text/plain": [
       "<Figure size 600x600 with 1 Axes>"
      ]
     },
     "metadata": {},
     "output_type": "display_data"
    },
    {
     "data": {
      "image/png": "[encoded data removed]",
      "text/plain": [
       "<Figure size 600x600 with 1 Axes>"
      ]
     },
     "metadata": {},
     "output_type": "display_data"
    },
    {
     "data": {
      "image/png": "[encoded data removed]",
      "text/plain": [
       "<Figure size 600x600 with 1 Axes>"
      ]
     },
     "metadata": {},
     "output_type": "display_data"
    }
   ],
   "source": [
    "import matplotlib.pyplot as plt\n",
    "plt.figure(figure=(14,7))\n",
    "\n",
    "for col in features: \n",
    "    cp_df.boxplot(column=col, by='classe', figsize=(6,6))\n",
    "    plt.title(col)\n",
    "plt.show()"
   ]
  },
  {
   "cell_type": "code",
   "execution_count": 138,
   "id": "e1c427e6",
   "metadata": {},
   "outputs": [
    {
     "data": {
      "text/plain": [
       "classe\n",
       "begnin       112\n",
       "malignant    100\n",
       "Name: count, dtype: int64"
      ]
     },
     "execution_count": 138,
     "metadata": {},
     "output_type": "execute_result"
    }
   ],
   "source": [
    "cp_df['classe'].value_counts()"
   ]
  },
  {
   "cell_type": "code",
   "execution_count": 139,
   "id": "d22c8100",
   "metadata": {},
   "outputs": [],
   "source": [
    "cp_df['clump per ucellsize']= cp_df['clump'] / cp_df['ucellsize']"
   ]
  },
  {
   "cell_type": "code",
   "execution_count": 140,
   "id": "3473ce7f",
   "metadata": {},
   "outputs": [],
   "source": [
    "from sklearn.feature_selection import SelectKBest\n",
    "from sklearn.feature_selection import f_classif\n",
    "\n",
    "fs = SelectKBest(score_func=f_classif, k=3)\n",
    "x_selected = fs.fit_transform(cp_df[features].values,cp_df[label].values)"
   ]
  },
  {
   "cell_type": "code",
   "execution_count": 141,
   "id": "1a25a24d",
   "metadata": {},
   "outputs": [],
   "source": [
    "cols_id = fs.get_support()\n",
    "selected_features = cp_df[features].iloc[:,cols_id]"
   ]
  },
  {
   "cell_type": "code",
   "execution_count": 142,
   "id": "3e0e6a52",
   "metadata": {},
   "outputs": [
    {
     "data": {
      "text/html": [
       "<div>\n",
       "<style scoped>\n",
       "    .dataframe tbody tr th:only-of-type {\n",
       "        vertical-align: middle;\n",
       "    }\n",
       "\n",
       "    .dataframe tbody tr th {\n",
       "        vertical-align: top;\n",
       "    }\n",
       "\n",
       "    .dataframe thead th {\n",
       "        text-align: right;\n",
       "    }\n",
       "</style>\n",
       "<table border=\"1\" class=\"dataframe\">\n",
       "  <thead>\n",
       "    <tr style=\"text-align: right;\">\n",
       "      <th></th>\n",
       "      <th>ucellsize</th>\n",
       "      <th>ucellshape</th>\n",
       "      <th>bnuclei</th>\n",
       "    </tr>\n",
       "  </thead>\n",
       "  <tbody>\n",
       "    <tr>\n",
       "      <th>0</th>\n",
       "      <td>1</td>\n",
       "      <td>1</td>\n",
       "      <td>3</td>\n",
       "    </tr>\n",
       "    <tr>\n",
       "      <th>1</th>\n",
       "      <td>5</td>\n",
       "      <td>8</td>\n",
       "      <td>8</td>\n",
       "    </tr>\n",
       "    <tr>\n",
       "      <th>2</th>\n",
       "      <td>2</td>\n",
       "      <td>2</td>\n",
       "      <td>1</td>\n",
       "    </tr>\n",
       "    <tr>\n",
       "      <th>3</th>\n",
       "      <td>1</td>\n",
       "      <td>1</td>\n",
       "      <td>1</td>\n",
       "    </tr>\n",
       "    <tr>\n",
       "      <th>4</th>\n",
       "      <td>4</td>\n",
       "      <td>6</td>\n",
       "      <td>10</td>\n",
       "    </tr>\n",
       "    <tr>\n",
       "      <th>...</th>\n",
       "      <td>...</td>\n",
       "      <td>...</td>\n",
       "      <td>...</td>\n",
       "    </tr>\n",
       "    <tr>\n",
       "      <th>286</th>\n",
       "      <td>4</td>\n",
       "      <td>4</td>\n",
       "      <td>10</td>\n",
       "    </tr>\n",
       "    <tr>\n",
       "      <th>288</th>\n",
       "      <td>3</td>\n",
       "      <td>2</td>\n",
       "      <td>1</td>\n",
       "    </tr>\n",
       "    <tr>\n",
       "      <th>290</th>\n",
       "      <td>2</td>\n",
       "      <td>2</td>\n",
       "      <td>1</td>\n",
       "    </tr>\n",
       "    <tr>\n",
       "      <th>296</th>\n",
       "      <td>1</td>\n",
       "      <td>1</td>\n",
       "      <td>1</td>\n",
       "    </tr>\n",
       "    <tr>\n",
       "      <th>298</th>\n",
       "      <td>7</td>\n",
       "      <td>9</td>\n",
       "      <td>10</td>\n",
       "    </tr>\n",
       "  </tbody>\n",
       "</table>\n",
       "<p>212 rows × 3 columns</p>\n",
       "</div>"
      ],
      "text/plain": [
       "     ucellsize  ucellshape  bnuclei\n",
       "0            1           1        3\n",
       "1            5           8        8\n",
       "2            2           2        1\n",
       "3            1           1        1\n",
       "4            4           6       10\n",
       "..         ...         ...      ...\n",
       "286          4           4       10\n",
       "288          3           2        1\n",
       "290          2           2        1\n",
       "296          1           1        1\n",
       "298          7           9       10\n",
       "\n",
       "[212 rows x 3 columns]"
      ]
     },
     "execution_count": 142,
     "metadata": {},
     "output_type": "execute_result"
    }
   ],
   "source": [
    "selected_features"
   ]
  },
  {
   "cell_type": "code",
   "execution_count": 143,
   "id": "d5f0ffac",
   "metadata": {},
   "outputs": [
    {
     "name": "stderr",
     "output_type": "stream",
     "text": [
      "C:\\Users\\Umoru\\AppData\\Local\\Temp\\ipykernel_12172\\1102279183.py:2: FutureWarning: Downcasting behavior in `replace` is deprecated and will be removed in a future version. To retain the old behavior, explicitly call `result.infer_objects(copy=False)`. To opt-in to the future behavior, set `pd.set_option('future.no_silent_downcasting', True)`\n",
      "  cp_df[label] = cp_df[label].replace({'begnin':0,'malignant':1}).astype(int)\n"
     ]
    }
   ],
   "source": [
    "# encode the label\n",
    "cp_df[label] = cp_df[label].replace({'begnin':0,'malignant':1}).astype(int)"
   ]
  },
  {
   "cell_type": "code",
   "execution_count": 144,
   "id": "19821e82",
   "metadata": {},
   "outputs": [
    {
     "data": {
      "text/plain": [
       "classe\n",
       "0    112\n",
       "1    100\n",
       "Name: count, dtype: int64"
      ]
     },
     "execution_count": 144,
     "metadata": {},
     "output_type": "execute_result"
    }
   ],
   "source": [
    "cp_df[label].value_counts()"
   ]
  },
  {
   "cell_type": "code",
   "execution_count": 145,
   "id": "867214ad",
   "metadata": {},
   "outputs": [],
   "source": [
    "y= cp_df[label].values"
   ]
  },
  {
   "cell_type": "code",
   "execution_count": 146,
   "id": "e8146a5e",
   "metadata": {},
   "outputs": [
    {
     "data": {
      "text/plain": [
       "(212,)"
      ]
     },
     "execution_count": 146,
     "metadata": {},
     "output_type": "execute_result"
    }
   ],
   "source": [
    "y.shape"
   ]
  },
  {
   "cell_type": "code",
   "execution_count": 147,
   "id": "c4a784f9",
   "metadata": {},
   "outputs": [
    {
     "data": {
      "text/plain": [
       "(212, 3)"
      ]
     },
     "execution_count": 147,
     "metadata": {},
     "output_type": "execute_result"
    }
   ],
   "source": [
    "x_selected.shape"
   ]
  },
  {
   "cell_type": "code",
   "execution_count": 148,
   "id": "f533557d",
   "metadata": {},
   "outputs": [],
   "source": [
    "from sklearn.model_selection import train_test_split\n",
    "\n",
    "X_train, X_test, y_train, y_test = train_test_split(x_selected, y, test_size=0.10, random_state=0)"
   ]
  },
  {
   "cell_type": "markdown",
   "id": "2aa57f05-066c-492f-9952-66dc4e8dc075",
   "metadata": {},
   "source": [
    "Logistic Regression"
   ]
  },
  {
   "cell_type": "code",
   "execution_count": 150,
   "id": "f1fe002e-5fb6-4fa7-9c0b-4f429d5f10bd",
   "metadata": {},
   "outputs": [
    {
     "name": "stdout",
     "output_type": "stream",
     "text": [
      "LogisticRegression(C=100.0, solver='liblinear')\n"
     ]
    }
   ],
   "source": [
    "from sklearn.linear_model import LogisticRegression \n",
    "\n",
    "# set regularization rate\n",
    "reg = 0.01 \n",
    "\n",
    "model = LogisticRegression(C=1/reg, solver=\"liblinear\")\n",
    "model.fit(X_train,y_train)\n",
    "print(model)"
   ]
  },
  {
   "cell_type": "code",
   "execution_count": 151,
   "id": "018a873e-5b5e-4b7d-b4c7-1ba8c55b1916",
   "metadata": {},
   "outputs": [],
   "source": [
    "predictions =model.predict(X_test)"
   ]
  },
  {
   "cell_type": "code",
   "execution_count": 152,
   "id": "fb467630-5f6d-4e08-81e4-aa90b887c506",
   "metadata": {},
   "outputs": [
    {
     "name": "stdout",
     "output_type": "stream",
     "text": [
      "accuracy:  0.9545454545454546\n"
     ]
    }
   ],
   "source": [
    "from sklearn.metrics import accuracy_score\n",
    "print('accuracy: ', accuracy_score(y_test, predictions))"
   ]
  },
  {
   "cell_type": "markdown",
   "id": "b0851669-f5cf-487f-b0f6-14cbfc36e8fc",
   "metadata": {},
   "source": [
    "**Let's check how well the model is performing**"
   ]
  },
  {
   "cell_type": "code",
   "execution_count": 154,
   "id": "bea2d781-f366-460f-9074-53cc5d53b2a6",
   "metadata": {},
   "outputs": [
    {
     "name": "stdout",
     "output_type": "stream",
     "text": [
      "              precision    recall  f1-score   support\n",
      "\n",
      "           0       0.90      1.00      0.95         9\n",
      "           1       1.00      0.92      0.96        13\n",
      "\n",
      "    accuracy                           0.95        22\n",
      "   macro avg       0.95      0.96      0.95        22\n",
      "weighted avg       0.96      0.95      0.95        22\n",
      "\n"
     ]
    }
   ],
   "source": [
    "from sklearn.metrics import classification_report\n",
    "\n",
    "print(classification_report(y_test, predictions))"
   ]
  },
  {
   "cell_type": "code",
   "execution_count": null,
   "id": "1adfa526-bd9d-49dd-88a9-62b056f8caa4",
   "metadata": {},
   "outputs": [],
   "source": []
  },
  {
   "cell_type": "code",
   "execution_count": 155,
   "id": "accd25d6",
   "metadata": {},
   "outputs": [
    {
     "name": "stdout",
     "output_type": "stream",
     "text": [
      "RandomForestClassifier(n_estimators=10)\n"
     ]
    }
   ],
   "source": [
    "from sklearn.ensemble import RandomForestClassifier\n",
    "\n",
    "Rf = RandomForestClassifier(n_estimators=10)\n",
    "\n",
    "Rf.fit(X_train, y_train)\n",
    "\n",
    "print(Rf)"
   ]
  },
  {
   "cell_type": "code",
   "execution_count": 156,
   "id": "4786561f",
   "metadata": {},
   "outputs": [],
   "source": [
    "predictions = model.predict(X_test)"
   ]
  },
  {
   "cell_type": "code",
   "execution_count": 157,
   "id": "70779412",
   "metadata": {},
   "outputs": [
    {
     "name": "stdout",
     "output_type": "stream",
     "text": [
      "Accuracy:  0.9545454545454546\n"
     ]
    }
   ],
   "source": [
    "from sklearn.metrics import accuracy_score\n",
    "print('Accuracy: ', accuracy_score(y_test, predictions))"
   ]
  },
  {
   "cell_type": "code",
   "execution_count": 158,
   "id": "f4116126",
   "metadata": {},
   "outputs": [
    {
     "name": "stdout",
     "output_type": "stream",
     "text": [
      "              precision    recall  f1-score   support\n",
      "\n",
      "           0       0.90      1.00      0.95         9\n",
      "           1       1.00      0.92      0.96        13\n",
      "\n",
      "    accuracy                           0.95        22\n",
      "   macro avg       0.95      0.96      0.95        22\n",
      "weighted avg       0.96      0.95      0.95        22\n",
      "\n"
     ]
    }
   ],
   "source": [
    "from sklearn.metrics import classification_report\n",
    "\n",
    "print(classification_report(y_test, predictions))"
   ]
  },
  {
   "cell_type": "code",
   "execution_count": 159,
   "id": "397aacef",
   "metadata": {},
   "outputs": [
    {
     "name": "stdout",
     "output_type": "stream",
     "text": [
      "Overall Precision: 1.0\n",
      "Overall Recall: 0.9230769230769231\n"
     ]
    }
   ],
   "source": [
    "from sklearn.metrics import precision_score, recall_score\n",
    "\n",
    "print(\"Overall Precision:\",precision_score(y_test, predictions))\n",
    "print(\"Overall Recall:\",recall_score(y_test, predictions))"
   ]
  },
  {
   "cell_type": "code",
   "execution_count": 160,
   "id": "d6a983b4",
   "metadata": {},
   "outputs": [
    {
     "name": "stdout",
     "output_type": "stream",
     "text": [
      "[[ 9  0]\n",
      " [ 1 12]]\n"
     ]
    }
   ],
   "source": [
    "from sklearn.metrics import confusion_matrix\n",
    "cm = confusion_matrix(y_test, predictions)\n",
    "print (cm)"
   ]
  },
  {
   "cell_type": "code",
   "execution_count": 161,
   "id": "d3284e4c",
   "metadata": {
    "scrolled": true
   },
   "outputs": [
    {
     "data": {
      "text/plain": [
       "<Axes: xlabel='Predicted', ylabel='Actual'>"
      ]
     },
     "execution_count": 161,
     "metadata": {},
     "output_type": "execute_result"
    },
    {
     "data": {
      "image/png": "[encoded data removed]",
      "text/plain": [
       "<Figure size 640x480 with 2 Axes>"
      ]
     },
     "metadata": {},
     "output_type": "display_data"
    }
   ],
   "source": [
    "import seaborn as sns\n",
    "\n",
    "confusion_matrix = pd.crosstab(y_test, predictions, rownames=['Actual'], colnames=['Predicted'])\n",
    "sns.heatmap(confusion_matrix, annot=True)"
   ]
  },
  {
   "cell_type": "code",
   "execution_count": 200,
   "id": "40896405",
   "metadata": {},
   "outputs": [
    {
     "data": {
      "text/plain": [
       "['cancer_model_revised.joblib']"
      ]
     },
     "execution_count": 200,
     "metadata": {},
     "output_type": "execute_result"
    }
   ],
   "source": [
    "import joblib\n",
    "joblib.dump(Rf, 'cancer_model_revised.joblib')"
   ]
  },
  {
   "cell_type": "code",
   "execution_count": null,
   "id": "9e786159-bfd7-4a72-9442-543b5d32bc11",
   "metadata": {},
   "outputs": [],
   "source": []
  }
 ],
 "metadata": {
  "kernelspec": {
   "display_name": "Python [conda env:base] *",
   "language": "python",
   "name": "conda-base-py"
  },
  "language_info": {
   "codemirror_mode": {
    "name": "ipython",
    "version": 3
   },
   "file_extension": ".py",
   "mimetype": "text/x-python",
   "name": "python",
   "nbconvert_exporter": "python",
   "pygments_lexer": "ipython3",
   "version": "3.12.7"
  }
 },
 "nbformat": 4,
 "nbformat_minor": 5
}
